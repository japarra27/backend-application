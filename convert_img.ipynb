{
  "nbformat": 4,
  "nbformat_minor": 0,
  "metadata": {
    "colab": {
      "name": "convert_img.ipynb",
      "provenance": [],
      "collapsed_sections": [],
      "authorship_tag": "ABX9TyNmTFfhVxCGa3AVrNoQyaQ8",
      "include_colab_link": true
    },
    "kernelspec": {
      "name": "python3",
      "display_name": "Python 3"
    }
  },
  "cells": [
    {
      "cell_type": "markdown",
      "metadata": {
        "id": "view-in-github",
        "colab_type": "text"
      },
      "source": [
        "<a href=\"https://colab.research.google.com/github/japarra27/backend-application/blob/master/convert_img.ipynb\" target=\"_parent\"><img src=\"https://colab.research.google.com/assets/colab-badge.svg\" alt=\"Open In Colab\"/></a>"
      ]
    },
    {
      "cell_type": "code",
      "metadata": {
        "id": "nnzSMPjKZpDC"
      },
      "source": [
        "import os\n",
        "import datetime\n",
        "import tempfile\n",
        "from shutil import move\n",
        "from PIL import ImageDraw, ImageFont, Image\n",
        "from google.cloud import storage"
      ],
      "execution_count": 18,
      "outputs": []
    },
    {
      "cell_type": "code",
      "metadata": {
        "id": "1JieXpWpyOyE"
      },
      "source": [
        "storage_client = storage.Client.from_service_account_json('dsc-projects.json')\n",
        "files = storage_client.list_blobs('dsc-files', prefix='designs_library/processing')"
      ],
      "execution_count": 31,
      "outputs": []
    },
    {
      "cell_type": "code",
      "metadata": {
        "id": "UqoQ-WLX4uFo"
      },
      "source": [
        "files = [img.name for img in files]"
      ],
      "execution_count": 32,
      "outputs": []
    },
    {
      "cell_type": "code",
      "metadata": {
        "id": "zyhsqSpDwflT"
      },
      "source": [
        "def convert_upload_img(original_image, author, im_height=800, im_width=600):\n",
        "  with Image.open(original_image) as image:\n",
        "    image = image.resize((im_height, im_width))\n",
        "    draw = ImageDraw.Draw(image)\n",
        "    font = ImageFont.truetype('Roboto-Bold.ttf', size=16)\n",
        "    designer_name = author\n",
        "    image_name = original_image.split(\"/\")[-1]\n",
        "    date = datetime.datetime.now().strftime(\"%Y-%m-%d\")\n",
        "    (x, y) = (int(image.size[0]*0.35), int(image.size[1]*0.95))\n",
        "    message = f\"{designer_name} - {date}\"\n",
        "    color = 'rgb(0, 0, 0)'\n",
        "    draw.text((x, y), message, fill=color, font=font)\n",
        "    image.save(original_image, format=\"png\")"
      ],
      "execution_count": 34,
      "outputs": []
    },
    {
      "cell_type": "code",
      "metadata": {
        "id": "Vtx8pQnUxHFB"
      },
      "source": [
        "for img in files:\n",
        "  try:\n",
        "    file_name = storage_client.bucket('dsc-files').get_blob(img)\n",
        "    image_name = img.split(\"/\")[-1]\n",
        "    _, temp_local_filename = tempfile.mkstemp()\n",
        "    file_name.download_to_filename(temp_local_filename)\n",
        "    convert_upload_img(original_image=temp_local_filename, author='andrew')\n",
        "    new_blob = storage_client.bucket('dsc-files').blob(f'designs_library/converted/{image_name}')\n",
        "    new_blob.upload_from_filename(temp_local_filename, content_type='image/png')\n",
        "    source_bucket = storage_client.bucket('dsc-files')\n",
        "    source_blob = source_bucket.blob(img)\n",
        "    source_bucket.copy_blob(source_blob, source_bucket, f'designs_library/source/{img.split(\"/\")[-1]}')\n",
        "    source_blob.delete()\n",
        "  except:\n",
        "    pass"
      ],
      "execution_count": 35,
      "outputs": []
    }
  ]
}